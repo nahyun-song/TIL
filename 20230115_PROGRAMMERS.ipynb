{
 "cells": [
  {
   "cell_type": "markdown",
   "metadata": {},
   "source": [
    "# 1. 자동차 종류 별 특정 옵션이 포함된 자동차 수 구하기\n",
    "\n",
    "**문제 설명**\n",
    "\n",
    "자동차 종류는 '세단', 'SUV', '승합차', '트럭', '리무진' 이 있습니다. 자동차 옵션 리스트는 콤마(',')로 구분된 키워드 리스트(옵션 리스트 값 예시: '열선시트', '스마트키', '주차감지센서')로 되어있으며, 키워드 종류는 '주차감지센서', '스마트키', '네비게이션', '통풍시트', '열선시트', '후방카메라', '가죽시트' 가 있습니다.\n",
    "\n",
    "**문제**\n",
    "\n",
    "`CAR_RENTAL_COMPANY_CAR` 테이블에서 '통풍시트', '열선시트', '가죽시트' 중 하나 이상의 옵션이 포함된 자동차가 자동차 종류 별로 몇 대인지 출력하는 SQL문을 작성해주세요. 이때 자동차 수에 대한 컬럼명은 `CARS`로 지정하고, 결과는 자동차 종류를 기준으로 오름차순 정렬해주세요."
   ]
  },
  {
   "cell_type": "code",
   "execution_count": null,
   "metadata": {},
   "outputs": [],
   "source": [
    "SELECT CAR_TYPE, COUNT(CAR_ID) CARS\n",
    "FROM CAR_RENTAL_COMPANY_CAR C\n",
    "WHERE OPTIONS LIKE '%시트%'\n",
    "GROUP BY 1\n",
    "ORDER BY 1"
   ]
  },
  {
   "cell_type": "markdown",
   "metadata": {},
   "source": [
    "# 2. 카테고리 별 상품 개수 구하기\n",
    "\n",
    "**문제**\n",
    "\n",
    "PRODUCT 테이블에서 상품 카테고리 코드(PRODUCT_CODE 앞 2자리) 별 상품 개수를 출력하는 SQL문을 작성해주세요. 결과는 상품 카테고리 코드를 기준으로 오름차순 정렬해주세요."
   ]
  },
  {
   "cell_type": "code",
   "execution_count": null,
   "metadata": {},
   "outputs": [],
   "source": [
    "SELECT SUBSTR(PRODUCT_CODE, 1, 2) CATEGORY, COUNT(PRODUCT_ID) PRODUCTS\n",
    "FROM PRODUCT\n",
    "GROUP BY 1\n",
    "ORDER BY 1"
   ]
  },
  {
   "cell_type": "markdown",
   "metadata": {},
   "source": [
    "# 3. 가격이 제일 비싼 식품의 정보 출력하기\n",
    "\n",
    "**문제**\n",
    "\n",
    "`FOOD_PRODUCT` 테이블에서 가격이 제일 비싼 식품의 식품 ID, 식품 이름, 식품 코드, 식품분류, 식품 가격을 조회하는 SQL문을 작성해주세요."
   ]
  },
  {
   "cell_type": "code",
   "execution_count": null,
   "metadata": {},
   "outputs": [],
   "source": [
    "SELECT *\n",
    "FROM FOOD_PRODUCT\n",
    "WHERE PRICE = (SELECT MAX(PRICE) FROM FOOD_PRODUCT)"
   ]
  },
  {
   "cell_type": "markdown",
   "metadata": {},
   "source": [
    "# 4. 대여 횟수가 많은 자동차들의 월별 대여 횟수 구하기\n",
    "**문제**\n",
    "\n",
    "`CAR_RENTAL_COMPANY_RENTAL_HISTORY` 테이블에서 대여 시작일을 기준으로 2022년 8월부터 2022년 10월까지 총 대여 횟수가 5회 이상인 자동차들에 대해서 해당 기간 동안의 월별 자동차 ID 별 총 대여 횟수(컬럼명: `RECORDS`) 리스트를 출력하는 SQL문을 작성해주세요. 결과는 월을 기준으로 오름차순 정렬하고, 월이 같다면 자동차 ID를 기준으로 내림차순 정렬해주세요. 특정 월의 총 대여 횟수가 0인 경우에는 결과에서 제외해주세요."
   ]
  },
  {
   "cell_type": "code",
   "execution_count": null,
   "metadata": {},
   "outputs": [],
   "source": [
    "SELECT MONTH(START_DATE) MONTH, CAR_ID, COUNT(HISTORY_ID) RECORDS\n",
    "FROM CAR_RENTAL_COMPANY_RENTAL_HISTORY\n",
    "WHERE CAR_ID IN (SELECT CAR_ID\n",
    "                    FROM CAR_RENTAL_COMPANY_RENTAL_HISTORY\n",
    "                    WHERE START_DATE BETWEEN '20220801' AND '20221031'\n",
    "                    GROUP BY 1\n",
    "                    HAVING COUNT(HISTORY_ID) >= 5)\n",
    "    AND START_DATE BETWEEN '20220801' AND '20221031'\n",
    "GROUP BY 1, 2\n",
    "HAVING COUNT(HISTORY_ID) > 0\n",
    "ORDER BY 1, 2 DESC\n",
    "\n",
    "# PARTITION으로도 풀어보기!"
   ]
  },
  {
   "cell_type": "markdown",
   "metadata": {},
   "source": [
    "# 5. 카테고리 별 도서 판매량 집계하기\n",
    "**문제**\n",
    "`2022년 1월`의 카테고리 별 도서 판매량을 합산하고, 카테고리(`CATEGORY`), 총 판매량(`TOTAL_SALES`) 리스트를 출력하는 SQL문을 작성해주세요.\n",
    "결과는 카테고리명을 기준으로 오름차순 정렬해주세요."
   ]
  },
  {
   "cell_type": "code",
   "execution_count": null,
   "metadata": {},
   "outputs": [],
   "source": [
    "SELECT CATEGORY, SUM(SALES) TOTAL_SALES\n",
    "FROM BOOK B, BOOK_SALES BS\n",
    "WHERE B.BOOK_ID = BS.BOOK_ID\n",
    "    AND MONTH(SALES_DATE) = 1\n",
    "GROUP BY 1\n",
    "ORDER BY 1"
   ]
  },
  {
   "cell_type": "markdown",
   "metadata": {},
   "source": [
    "# 6. 조건별로 분류하여 주문상태 출력하기\n",
    "**문제**\n",
    "\n",
    "`FOOD_ORDER` 테이블에서 5월 1일을 기준으로 주문 ID, 제품 ID, 출고일자, 출고여부를 조회하는 SQL문을 작성해주세요. 출고여부는 5월 1일까지 출고완료로 이 후 날짜는 출고 대기로 미정이면 출고미정으로 출력해주시고, 결과는 주문 ID를 기준으로 오름차순 정렬해주세요."
   ]
  },
  {
   "cell_type": "code",
   "execution_count": null,
   "metadata": {},
   "outputs": [],
   "source": [
    "SELECT ORDER_ID, PRODUCT_ID, DATE_FORMAT(OUT_DATE, '%Y-%m-%d'), \n",
    "    CASE\n",
    "        WHEN OUT_DATE IS NULL THEN '출고미정'\n",
    "        WHEN OUT_DATE <= '2022-05-01' THEN '출고완료'\n",
    "        ELSE '출고대기'\n",
    "    END '출고여부'\n",
    "FROM FOOD_ORDER\n",
    "ORDER BY 1\n"
   ]
  },
  {
   "cell_type": "markdown",
   "metadata": {},
   "source": []
  },
  {
   "cell_type": "code",
   "execution_count": null,
   "metadata": {},
   "outputs": [],
   "source": []
  }
 ],
 "metadata": {
  "kernelspec": {
   "display_name": "Python 3",
   "language": "python",
   "name": "python3"
  },
  "language_info": {
   "codemirror_mode": {
    "name": "ipython",
    "version": 3
   },
   "file_extension": ".py",
   "mimetype": "text/x-python",
   "name": "python",
   "nbconvert_exporter": "python",
   "pygments_lexer": "ipython3",
   "version": "3.8.5"
  }
 },
 "nbformat": 4,
 "nbformat_minor": 4
}   
