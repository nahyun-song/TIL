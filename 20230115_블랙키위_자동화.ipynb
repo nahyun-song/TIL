{
 "cells": [
  {
   "cell_type": "code",
   "execution_count": 24,
   "metadata": {},
   "outputs": [],
   "source": [
    "import pyautogui as pg\n",
    "import pyperclip\n",
    "import pandas as pd\n",
    "from selenium import webdriver\n",
    "from selenium.webdriver.chrome.service import Service\n",
    "from webdriver_manager.chrome import ChromeDriverManager\n",
    "from selenium.webdriver.common.by import By\n",
    "from bs4 import BeautifulSoup as BS\n",
    "import pandas as pd\n",
    "from IPython.display import display\n",
    "import warnings\n",
    "import time"
   ]
  },
  {
   "cell_type": "code",
   "execution_count": 1,
   "metadata": {},
   "outputs": [],
   "source": [
    "keywords = ['키즈', '아동', '닥스키즈', '헤지스키즈']"
   ]
  },
  {
   "cell_type": "code",
   "execution_count": 41,
   "metadata": {},
   "outputs": [],
   "source": [
    "warnings.filterwarnings(action='ignore')\n",
    "chrome_options = webdriver.ChromeOptions()\n",
    "driver = webdriver.Chrome(service=Service(ChromeDriverManager().install()), options = chrome_options)"
   ]
  },
  {
   "cell_type": "code",
   "execution_count": 39,
   "metadata": {
    "collapsed": true
   },
   "outputs": [
    {
     "ename": "NoSuchElementException",
     "evalue": "Message: no such element: Unable to locate element: {\"method\":\"xpath\",\"selector\":\"/html/body/div[1]/main/div[2]/div/div[3]/div/div/div/div[2]/div[1]/div[1]/table/thead/tr/th[4]/div/div/span/svg\"}\n  (Session info: chrome=108.0.5359.124)\nStacktrace:\n0   chromedriver                        0x0000000102a72f38 chromedriver + 4910904\n1   chromedriver                        0x00000001029f2a03 chromedriver + 4385283\n2   chromedriver                        0x0000000102637747 chromedriver + 472903\n3   chromedriver                        0x000000010267c34c chromedriver + 754508\n4   chromedriver                        0x000000010267c5a1 chromedriver + 755105\n5   chromedriver                        0x00000001026bfe94 chromedriver + 1031828\n6   chromedriver                        0x00000001026a213d chromedriver + 909629\n7   chromedriver                        0x00000001026bd28e chromedriver + 1020558\n8   chromedriver                        0x00000001026a1ee3 chromedriver + 909027\n9   chromedriver                        0x000000010266c30c chromedriver + 688908\n10  chromedriver                        0x000000010266d88e chromedriver + 694414\n11  chromedriver                        0x0000000102a401de chromedriver + 4702686\n12  chromedriver                        0x0000000102a44b19 chromedriver + 4721433\n13  chromedriver                        0x0000000102a4c28e chromedriver + 4752014\n14  chromedriver                        0x0000000102a4591a chromedriver + 4725018\n15  chromedriver                        0x0000000102a19b02 chromedriver + 4545282\n16  chromedriver                        0x0000000102a64888 chromedriver + 4851848\n17  chromedriver                        0x0000000102a64a05 chromedriver + 4852229\n18  chromedriver                        0x0000000102a7ae5f chromedriver + 4943455\n19  libsystem_pthread.dylib             0x00007ff805b134e1 _pthread_start + 125\n20  libsystem_pthread.dylib             0x00007ff805b0ef6b thread_start + 15\n",
     "output_type": "error",
     "traceback": [
      "\u001b[0;31m---------------------------------------------------------------------------\u001b[0m",
      "\u001b[0;31mNoSuchElementException\u001b[0m                    Traceback (most recent call last)",
      "\u001b[0;32m<ipython-input-39-1760c48bd421>\u001b[0m in \u001b[0;36m<module>\u001b[0;34m\u001b[0m\n\u001b[1;32m      8\u001b[0m \u001b[0;34m\u001b[0m\u001b[0m\n\u001b[1;32m      9\u001b[0m     \u001b[0;31m# 철자유사도 낮음 제외\u001b[0m\u001b[0;34m\u001b[0m\u001b[0;34m\u001b[0m\u001b[0;34m\u001b[0m\u001b[0m\n\u001b[0;32m---> 10\u001b[0;31m     \u001b[0mdriver\u001b[0m\u001b[0;34m.\u001b[0m\u001b[0mfind_element\u001b[0m\u001b[0;34m(\u001b[0m\u001b[0mBy\u001b[0m\u001b[0;34m.\u001b[0m\u001b[0mXPATH\u001b[0m\u001b[0;34m,\u001b[0m \u001b[0;34m'/html/body/div[1]/main/div[2]/div/div[3]/div/div/div/div[2]/div[1]/div[1]/table/thead/tr/th[4]/div/div/span/svg'\u001b[0m\u001b[0;34m)\u001b[0m\u001b[0;34m.\u001b[0m\u001b[0mclick\u001b[0m\u001b[0;34m(\u001b[0m\u001b[0;34m)\u001b[0m\u001b[0;34m\u001b[0m\u001b[0;34m\u001b[0m\u001b[0m\n\u001b[0m\u001b[1;32m     11\u001b[0m     \u001b[0mhtml\u001b[0m \u001b[0;34m=\u001b[0m \u001b[0mdriver\u001b[0m\u001b[0;34m.\u001b[0m\u001b[0mpage_source\u001b[0m\u001b[0;34m\u001b[0m\u001b[0;34m\u001b[0m\u001b[0m\n\u001b[1;32m     12\u001b[0m     \u001b[0msoup\u001b[0m \u001b[0;34m=\u001b[0m \u001b[0mBS\u001b[0m\u001b[0;34m(\u001b[0m\u001b[0mhtml\u001b[0m\u001b[0;34m,\u001b[0m \u001b[0;34m'html.parser'\u001b[0m\u001b[0;34m)\u001b[0m\u001b[0;34m\u001b[0m\u001b[0;34m\u001b[0m\u001b[0m\n",
      "\u001b[0;32m~/opt/anaconda3/lib/python3.8/site-packages/selenium/webdriver/remote/webdriver.py\u001b[0m in \u001b[0;36mfind_element\u001b[0;34m(self, by, value)\u001b[0m\n\u001b[1;32m    853\u001b[0m             \u001b[0mvalue\u001b[0m \u001b[0;34m=\u001b[0m \u001b[0;34m'[name=\"%s\"]'\u001b[0m \u001b[0;34m%\u001b[0m \u001b[0mvalue\u001b[0m\u001b[0;34m\u001b[0m\u001b[0;34m\u001b[0m\u001b[0m\n\u001b[1;32m    854\u001b[0m \u001b[0;34m\u001b[0m\u001b[0m\n\u001b[0;32m--> 855\u001b[0;31m         return self.execute(Command.FIND_ELEMENT, {\n\u001b[0m\u001b[1;32m    856\u001b[0m             \u001b[0;34m'using'\u001b[0m\u001b[0;34m:\u001b[0m \u001b[0mby\u001b[0m\u001b[0;34m,\u001b[0m\u001b[0;34m\u001b[0m\u001b[0;34m\u001b[0m\u001b[0m\n\u001b[1;32m    857\u001b[0m             'value': value})['value']\n",
      "\u001b[0;32m~/opt/anaconda3/lib/python3.8/site-packages/selenium/webdriver/remote/webdriver.py\u001b[0m in \u001b[0;36mexecute\u001b[0;34m(self, driver_command, params)\u001b[0m\n\u001b[1;32m    426\u001b[0m         \u001b[0mresponse\u001b[0m \u001b[0;34m=\u001b[0m \u001b[0mself\u001b[0m\u001b[0;34m.\u001b[0m\u001b[0mcommand_executor\u001b[0m\u001b[0;34m.\u001b[0m\u001b[0mexecute\u001b[0m\u001b[0;34m(\u001b[0m\u001b[0mdriver_command\u001b[0m\u001b[0;34m,\u001b[0m \u001b[0mparams\u001b[0m\u001b[0;34m)\u001b[0m\u001b[0;34m\u001b[0m\u001b[0;34m\u001b[0m\u001b[0m\n\u001b[1;32m    427\u001b[0m         \u001b[0;32mif\u001b[0m \u001b[0mresponse\u001b[0m\u001b[0;34m:\u001b[0m\u001b[0;34m\u001b[0m\u001b[0;34m\u001b[0m\u001b[0m\n\u001b[0;32m--> 428\u001b[0;31m             \u001b[0mself\u001b[0m\u001b[0;34m.\u001b[0m\u001b[0merror_handler\u001b[0m\u001b[0;34m.\u001b[0m\u001b[0mcheck_response\u001b[0m\u001b[0;34m(\u001b[0m\u001b[0mresponse\u001b[0m\u001b[0;34m)\u001b[0m\u001b[0;34m\u001b[0m\u001b[0;34m\u001b[0m\u001b[0m\n\u001b[0m\u001b[1;32m    429\u001b[0m             response['value'] = self._unwrap_value(\n\u001b[1;32m    430\u001b[0m                 response.get('value', None))\n",
      "\u001b[0;32m~/opt/anaconda3/lib/python3.8/site-packages/selenium/webdriver/remote/errorhandler.py\u001b[0m in \u001b[0;36mcheck_response\u001b[0;34m(self, response)\u001b[0m\n\u001b[1;32m    241\u001b[0m                 \u001b[0malert_text\u001b[0m \u001b[0;34m=\u001b[0m \u001b[0mvalue\u001b[0m\u001b[0;34m[\u001b[0m\u001b[0;34m'alert'\u001b[0m\u001b[0;34m]\u001b[0m\u001b[0;34m.\u001b[0m\u001b[0mget\u001b[0m\u001b[0;34m(\u001b[0m\u001b[0;34m'text'\u001b[0m\u001b[0;34m)\u001b[0m\u001b[0;34m\u001b[0m\u001b[0;34m\u001b[0m\u001b[0m\n\u001b[1;32m    242\u001b[0m             \u001b[0;32mraise\u001b[0m \u001b[0mexception_class\u001b[0m\u001b[0;34m(\u001b[0m\u001b[0mmessage\u001b[0m\u001b[0;34m,\u001b[0m \u001b[0mscreen\u001b[0m\u001b[0;34m,\u001b[0m \u001b[0mstacktrace\u001b[0m\u001b[0;34m,\u001b[0m \u001b[0malert_text\u001b[0m\u001b[0;34m)\u001b[0m  \u001b[0;31m# type: ignore[call-arg]  # mypy is not smart enough here\u001b[0m\u001b[0;34m\u001b[0m\u001b[0;34m\u001b[0m\u001b[0m\n\u001b[0;32m--> 243\u001b[0;31m         \u001b[0;32mraise\u001b[0m \u001b[0mexception_class\u001b[0m\u001b[0;34m(\u001b[0m\u001b[0mmessage\u001b[0m\u001b[0;34m,\u001b[0m \u001b[0mscreen\u001b[0m\u001b[0;34m,\u001b[0m \u001b[0mstacktrace\u001b[0m\u001b[0;34m)\u001b[0m\u001b[0;34m\u001b[0m\u001b[0;34m\u001b[0m\u001b[0m\n\u001b[0m",
      "\u001b[0;31mNoSuchElementException\u001b[0m: Message: no such element: Unable to locate element: {\"method\":\"xpath\",\"selector\":\"/html/body/div[1]/main/div[2]/div/div[3]/div/div/div/div[2]/div[1]/div[1]/table/thead/tr/th[4]/div/div/span/svg\"}\n  (Session info: chrome=108.0.5359.124)\nStacktrace:\n0   chromedriver                        0x0000000102a72f38 chromedriver + 4910904\n1   chromedriver                        0x00000001029f2a03 chromedriver + 4385283\n2   chromedriver                        0x0000000102637747 chromedriver + 472903\n3   chromedriver                        0x000000010267c34c chromedriver + 754508\n4   chromedriver                        0x000000010267c5a1 chromedriver + 755105\n5   chromedriver                        0x00000001026bfe94 chromedriver + 1031828\n6   chromedriver                        0x00000001026a213d chromedriver + 909629\n7   chromedriver                        0x00000001026bd28e chromedriver + 1020558\n8   chromedriver                        0x00000001026a1ee3 chromedriver + 909027\n9   chromedriver                        0x000000010266c30c chromedriver + 688908\n10  chromedriver                        0x000000010266d88e chromedriver + 694414\n11  chromedriver                        0x0000000102a401de chromedriver + 4702686\n12  chromedriver                        0x0000000102a44b19 chromedriver + 4721433\n13  chromedriver                        0x0000000102a4c28e chromedriver + 4752014\n14  chromedriver                        0x0000000102a4591a chromedriver + 4725018\n15  chromedriver                        0x0000000102a19b02 chromedriver + 4545282\n16  chromedriver                        0x0000000102a64888 chromedriver + 4851848\n17  chromedriver                        0x0000000102a64a05 chromedriver + 4852229\n18  chromedriver                        0x0000000102a7ae5f chromedriver + 4943455\n19  libsystem_pthread.dylib             0x00007ff805b134e1 _pthread_start + 125\n20  libsystem_pthread.dylib             0x00007ff805b0ef6b thread_start + 15\n"
     ]
    }
   ],
   "source": [
    "for keyword in keywords:\n",
    "    time.sleep(2)\n",
    "    # 키워드 검색\n",
    "    # driver.find_elements(By.CLASS_NAME, 'style__SearchInputContainer-sc-1n5qojs-3 lmFKYa').click()\n",
    "    pyperclip.copy(keyword)\n",
    "    pg.hotkey('ctrl', 'v')\n",
    "    pg.hotkey('enter')\n",
    "    \n",
    "    # 철자유사도 낮음 제외\n",
    "    driver.find_element(By.XPATH, '/html/body/div[1]/main/div[2]/div/div[3]/div/div/div/div[2]/div[1]/div[1]/table/thead/tr/th[4]/div/div/span/svg').click()\n",
    "    html = driver.page_source\n",
    "    soup = BS(html, 'html.parser')\n",
    "    contents = soup.find_all('th')[-1].find_all('span', class_='style__CheckboxValue-sc-1i8b5q6-8 gwDKRz')\n",
    "    for content in contents:\n",
    "        if content.text == '낮음':\n",
    "            # 체크풀기\n",
    "    \n",
    "    # 결과가 20개 보다 많은 경우 더보기 클릭\n",
    "    try:\n",
    "        driver.find_element(By.XPATH, '/html/body/div[1]/main/div[2]/div/div[3]/div/div/div/div[2]/div[2]').click() \n",
    "        time.sleep(2)\n",
    "    except:\n",
    "        pass\n",
    "    \n",
    "    # 결과 csv 다운로드\n",
    "    "
   ]
  }
 ],
 "metadata": {
  "kernelspec": {
   "display_name": "Python 3",
   "language": "python",
   "name": "python3"
  },
  "language_info": {
   "codemirror_mode": {
    "name": "ipython",
    "version": 3
   },
   "file_extension": ".py",
   "mimetype": "text/x-python",
   "name": "python",
   "nbconvert_exporter": "python",
   "pygments_lexer": "ipython3",
   "version": "3.8.5"
  }
 },
 "nbformat": 4,
 "nbformat_minor": 4
}
